{
  "nbformat": 4,
  "nbformat_minor": 0,
  "metadata": {
    "colab": {
      "provenance": []
    },
    "kernelspec": {
      "name": "python3",
      "display_name": "Python 3"
    },
    "language_info": {
      "name": "python"
    }
  },
  "cells": [
    {
      "cell_type": "code",
      "execution_count": 1,
      "metadata": {
        "colab": {
          "base_uri": "https://localhost:8080/"
        },
        "id": "FrpUvDkAjsJh",
        "outputId": "f6b75e34-e632-4047-db8b-92e588d9cb70"
      },
      "outputs": [
        {
          "output_type": "stream",
          "name": "stdout",
          "text": [
            "Downloading data from https://storage.googleapis.com/tensorflow/tf-keras-datasets/mnist.npz\n",
            "11490434/11490434 [==============================] - 0s 0us/step\n"
          ]
        }
      ],
      "source": [
        "##### DATASET GENERATION #####\n",
        "import numpy as np\n",
        "from keras.datasets import mnist\n",
        "(X_train, y_train), (X_test, y_test) = mnist.load_data()\n",
        "X = X_train[y_train == 2][: 100].reshape(-1, 28 * 28)\n",
        "test_image = X_test[y_test == 2][0].reshape(28 * 28)"
      ]
    },
    {
      "cell_type": "code",
      "source": [
        "samples , features = np.shape(X)\n",
        "print(samples , features)"
      ],
      "metadata": {
        "colab": {
          "base_uri": "https://localhost:8080/"
        },
        "id": "AXNJhCZTkqCe",
        "outputId": "bc4e846d-b00d-4e80-d3d4-b67f48745828"
      },
      "execution_count": 2,
      "outputs": [
        {
          "output_type": "stream",
          "name": "stdout",
          "text": [
            "100 784\n"
          ]
        }
      ]
    },
    {
      "cell_type": "code",
      "source": [
        "import matplotlib.pyplot as plt\n",
        "img_55 = X[55].reshape(28,28)\n",
        "plt.imshow(img_55)"
      ],
      "metadata": {
        "colab": {
          "base_uri": "https://localhost:8080/",
          "height": 448
        },
        "id": "4FgmbJZakxM3",
        "outputId": "f52cf4d5-110d-4e8a-e2d4-6d5974be2a15"
      },
      "execution_count": 3,
      "outputs": [
        {
          "output_type": "execute_result",
          "data": {
            "text/plain": [
              "<matplotlib.image.AxesImage at 0x7f22d1514310>"
            ]
          },
          "metadata": {},
          "execution_count": 3
        },
        {
          "output_type": "display_data",
          "data": {
            "text/plain": [
              "<Figure size 640x480 with 1 Axes>"
            ],
            "image/png": "[encoded data removed]"
          },
          "metadata": {}
        }
      ]
    },
    {
      "cell_type": "markdown",
      "source": [
        "\n",
        "\n",
        "Center the the dataset $\\mathbf{X}$ around its mean. Call this centered dataset $\\mathbf{X}^{\\prime}$.\n",
        "\n"
      ],
      "metadata": {
        "id": "8e2xflo8FF8K"
      }
    },
    {
      "cell_type": "code",
      "source": [
        "def mean(X):\n",
        "    x , y = np.shape(X)\n",
        "    mean_X = []\n",
        "    for i in range(y):\n",
        "        mean_X.append(np.average(X[:,i]))\n",
        "    mean_X = np.array(mean_X)\n",
        "    return mean_X"
      ],
      "metadata": {
        "id": "3Ts_iXQ1lWCM"
      },
      "execution_count": 4,
      "outputs": []
    },
    {
      "cell_type": "code",
      "source": [
        "mean_array = mean(X)\n",
        "X_cen = X - mean_array"
      ],
      "metadata": {
        "id": "-Ch-5qpWlYVL"
      },
      "execution_count": 5,
      "outputs": []
    },
    {
      "cell_type": "markdown",
      "source": [
        "Compute the covariance matrix $\\mathbf{C}$ of the centered dataset."
      ],
      "metadata": {
        "id": "JcT4z1kDli-u"
      }
    },
    {
      "cell_type": "code",
      "source": [
        "C = (X_cen.T)@X_cen\n",
        "C = C/100"
      ],
      "metadata": {
        "id": "hZ28fIeIlnbm"
      },
      "execution_count": 6,
      "outputs": []
    },
    {
      "cell_type": "markdown",
      "source": [
        "Compute the first and second principal components of the dataset, $\\mathbf{w}_1$ and $\\mathbf{w}_2$.\n"
      ],
      "metadata": {
        "id": "26R4W381lxg9"
      }
    },
    {
      "cell_type": "code",
      "source": [
        "eig_val , eig_vect = np.linalg.eig(C)"
      ],
      "metadata": {
        "id": "H2TCusO-l0gs"
      },
      "execution_count": 7,
      "outputs": []
    },
    {
      "cell_type": "code",
      "source": [
        "w1 = eig_vect[:,0]\n",
        "w2 = eig_vect[:,1]\n",
        "np.shape(w1)"
      ],
      "metadata": {
        "colab": {
          "base_uri": "https://localhost:8080/"
        },
        "id": "sjrX8eUqmNRh",
        "outputId": "11d4008b-ec0d-46ef-df95-a02a9c8238a9"
      },
      "execution_count": 8,
      "outputs": [
        {
          "output_type": "execute_result",
          "data": {
            "text/plain": [
              "(784,)"
            ]
          },
          "metadata": {},
          "execution_count": 8
        }
      ]
    },
    {
      "cell_type": "markdown",
      "source": [
        "Visualizing the first principal component as an image."
      ],
      "metadata": {
        "id": "nZ64CHbumQD3"
      }
    },
    {
      "cell_type": "code",
      "source": [
        "w1_im = X[3]*w1\n",
        "w1_im = w1_im.reshape(28,28)\n",
        "plt.imshow(X[3].reshape(28,28))"
      ],
      "metadata": {
        "colab": {
          "base_uri": "https://localhost:8080/",
          "height": 448
        },
        "id": "yKTrhTJxmbq1",
        "outputId": "88bb1746-8713-49e7-ac1e-6a52c308faeb"
      },
      "execution_count": 9,
      "outputs": [
        {
          "output_type": "execute_result",
          "data": {
            "text/plain": [
              "<matplotlib.image.AxesImage at 0x7f22cb8b8580>"
            ]
          },
          "metadata": {},
          "execution_count": 9
        },
        {
          "output_type": "display_data",
          "data": {
            "text/plain": [
              "<Figure size 640x480 with 1 Axes>"
            ],
            "image/png": "[encoded data removed]"
          },
          "metadata": {}
        }
      ]
    },
    {
      "cell_type": "markdown",
      "source": [
        "Finding the smallest value of $k$ for which the first $k$ principal components capture at least $95\\%$ of the variance in the data."
      ],
      "metadata": {
        "id": "K8cdHOM0mk5A"
      }
    },
    {
      "cell_type": "code",
      "source": [
        "eig_val\n",
        "sum = 0\n",
        "i = 0\n",
        "while(sum/np.sum(eig_val)<=.95):\n",
        "  sum = sum + eig_val[i]\n",
        "  i=i+1\n",
        "print('Smallest value of  𝑘 is ',i)"
      ],
      "metadata": {
        "colab": {
          "base_uri": "https://localhost:8080/"
        },
        "id": "rpSJOkv0mxLH",
        "outputId": "4c805e4a-52b8-41f8-90b4-79380aa74b92"
      },
      "execution_count": 10,
      "outputs": [
        {
          "output_type": "stream",
          "name": "stdout",
          "text": [
            "Smallest value of  𝑘 is  53\n"
          ]
        }
      ]
    },
    {
      "cell_type": "markdown",
      "source": [
        "Given a `test_image`, visualizing the proxies  by reconstructing it using the top $k$ principal components. Consider four values of $k$; values of $k$ for which the top-$k$ principal components explain:\n",
        "\n",
        "- 20% of the variance\n",
        "- 50% of the variance\n",
        "- 80% of the variance\n",
        "- 95% of the variance"
      ],
      "metadata": {
        "id": "RjByldwPnrCA"
      }
    },
    {
      "cell_type": "code",
      "source": [
        "plt.imshow(test_image.reshape(28,28))\n"
      ],
      "metadata": {
        "colab": {
          "base_uri": "https://localhost:8080/",
          "height": 448
        },
        "id": "CjC2V5SNoE0q",
        "outputId": "11fec65a-2b83-449a-9f82-9af94fbc55ce"
      },
      "execution_count": 11,
      "outputs": [
        {
          "output_type": "execute_result",
          "data": {
            "text/plain": [
              "<matplotlib.image.AxesImage at 0x7f22cb929420>"
            ]
          },
          "metadata": {},
          "execution_count": 11
        },
        {
          "output_type": "display_data",
          "data": {
            "text/plain": [
              "<Figure size 640x480 with 1 Axes>"
            ],
            "image/png": "[encoded data removed]"
          },
          "metadata": {}
        }
      ]
    },
    {
      "cell_type": "code",
      "source": [
        "#20% of variance\n",
        "sum = 0\n",
        "i = 0\n",
        "while(sum/np.sum(eig_val)<=.2):\n",
        "  sum = sum + eig_val[i]\n",
        "  i=i+1\n",
        "print(\"For 20% variance k:\",i)"
      ],
      "metadata": {
        "colab": {
          "base_uri": "https://localhost:8080/"
        },
        "id": "o4S5rUOJoI3l",
        "outputId": "ef09dd36-e9db-49e0-a4e1-a8975b0400d8"
      },
      "execution_count": 12,
      "outputs": [
        {
          "output_type": "stream",
          "name": "stdout",
          "text": [
            "For 20% variance k: 2\n"
          ]
        }
      ]
    },
    {
      "cell_type": "code",
      "source": [
        "twenty = (test_image-mean_array)*(eig_vect[0]+eig_vect[1])+mean_array\n",
        "twenty = twenty.reshape(28,28)\n",
        "plt.imshow(twenty.astype(int))"
      ],
      "metadata": {
        "colab": {
          "base_uri": "https://localhost:8080/",
          "height": 484
        },
        "id": "fCg6MFvJoKv7",
        "outputId": "d722746e-c03e-4353-8ff4-3443022fb491"
      },
      "execution_count": 13,
      "outputs": [
        {
          "output_type": "stream",
          "name": "stderr",
          "text": [
            "<ipython-input-13-5cc80f9a2bfa>:3: ComplexWarning: Casting complex values to real discards the imaginary part\n",
            "  plt.imshow(twenty.astype(int))\n"
          ]
        },
        {
          "output_type": "execute_result",
          "data": {
            "text/plain": [
              "<matplotlib.image.AxesImage at 0x7f22cb99a7a0>"
            ]
          },
          "metadata": {},
          "execution_count": 13
        },
        {
          "output_type": "display_data",
          "data": {
            "text/plain": [
              "<Figure size 640x480 with 1 Axes>"
            ],
            "image/png": "[encoded data removed]"
          },
          "metadata": {}
        }
      ]
    },
    {
      "cell_type": "code",
      "source": [
        "#50% of variance\n",
        "sum = 0\n",
        "i = 0\n",
        "while(sum/np.sum(eig_val)<=.5):\n",
        "  sum = sum + eig_val[i]\n",
        "  i=i+1\n",
        "print(\"For 50% variance k:\",i)"
      ],
      "metadata": {
        "colab": {
          "base_uri": "https://localhost:8080/"
        },
        "id": "XcAWtP3PoOvK",
        "outputId": "889bf105-440e-4ded-e98f-1b2826c82466"
      },
      "execution_count": 14,
      "outputs": [
        {
          "output_type": "stream",
          "name": "stdout",
          "text": [
            "For 50% variance k: 6\n"
          ]
        }
      ]
    },
    {
      "cell_type": "code",
      "source": [
        "eig50 = 0\n",
        "for i in range(6):\n",
        "  eig50 = eig50 + eig_vect[i]\n",
        "fifty = test_image*(eig50)\n",
        "fifty = fifty.reshape(28,28)\n",
        "plt.imshow(fifty.astype(int))"
      ],
      "metadata": {
        "colab": {
          "base_uri": "https://localhost:8080/",
          "height": 484
        },
        "id": "kimAPVyioStf",
        "outputId": "8f998859-bd0c-4900-b8bd-69c0370f59cd"
      },
      "execution_count": 15,
      "outputs": [
        {
          "output_type": "stream",
          "name": "stderr",
          "text": [
            "<ipython-input-15-26e23b3a4f86>:6: ComplexWarning: Casting complex values to real discards the imaginary part\n",
            "  plt.imshow(fifty.astype(int))\n"
          ]
        },
        {
          "output_type": "execute_result",
          "data": {
            "text/plain": [
              "<matplotlib.image.AxesImage at 0x7f22cb80f940>"
            ]
          },
          "metadata": {},
          "execution_count": 15
        },
        {
          "output_type": "display_data",
          "data": {
            "text/plain": [
              "<Figure size 640x480 with 1 Axes>"
            ],
            "image/png": "[encoded data removed]"
          },
          "metadata": {}
        }
      ]
    },
    {
      "cell_type": "code",
      "source": [
        "#80% of variance\n",
        "sum = 0\n",
        "i = 0\n",
        "while(sum/np.sum(eig_val)<=.8):\n",
        "  sum = sum + eig_val[i]\n",
        "  i=i+1\n",
        "print(\"For 80% variance k:\",i)"
      ],
      "metadata": {
        "colab": {
          "base_uri": "https://localhost:8080/"
        },
        "id": "wYfRYfqroVVx",
        "outputId": "e88f5629-197c-49dd-dc06-595d213cecb1"
      },
      "execution_count": 16,
      "outputs": [
        {
          "output_type": "stream",
          "name": "stdout",
          "text": [
            "For 80% variance k: 22\n"
          ]
        }
      ]
    },
    {
      "cell_type": "code",
      "source": [
        "eig80 = 0\n",
        "for i in range(22):\n",
        "  eig80 = eig80 + eig_vect[i]\n",
        "fifty = test_image*(eig80)\n",
        "fifty = fifty.reshape(28,28)\n",
        "plt.imshow(fifty.astype(int))"
      ],
      "metadata": {
        "colab": {
          "base_uri": "https://localhost:8080/",
          "height": 484
        },
        "id": "YUh-QoIFoWjU",
        "outputId": "334f43ad-c135-4412-989d-60f7c7e70c74"
      },
      "execution_count": 17,
      "outputs": [
        {
          "output_type": "stream",
          "name": "stderr",
          "text": [
            "<ipython-input-17-a9896571eba6>:6: ComplexWarning: Casting complex values to real discards the imaginary part\n",
            "  plt.imshow(fifty.astype(int))\n"
          ]
        },
        {
          "output_type": "execute_result",
          "data": {
            "text/plain": [
              "<matplotlib.image.AxesImage at 0x7f22cb6a8040>"
            ]
          },
          "metadata": {},
          "execution_count": 17
        },
        {
          "output_type": "display_data",
          "data": {
            "text/plain": [
              "<Figure size 640x480 with 1 Axes>"
            ],
            "image/png": "[encoded data removed]"
          },
          "metadata": {}
        }
      ]
    },
    {
      "cell_type": "code",
      "source": [
        "#95% of variance\n",
        "sum = 0\n",
        "i = 0\n",
        "while(sum/np.sum(eig_val)<=.95):\n",
        "  sum = sum + eig_val[i]\n",
        "  i=i+1\n",
        "print(\"For 95% variance k:\",i)"
      ],
      "metadata": {
        "colab": {
          "base_uri": "https://localhost:8080/"
        },
        "id": "9mU_QX6QoaGL",
        "outputId": "59fc28d5-c23e-4ae4-9019-4742990bd008"
      },
      "execution_count": 18,
      "outputs": [
        {
          "output_type": "stream",
          "name": "stdout",
          "text": [
            "For 95% variance k: 53\n"
          ]
        }
      ]
    },
    {
      "cell_type": "code",
      "source": [
        "eig95 = 0\n",
        "for i in range(53):\n",
        "  eig95 = eig95 + eig_vect[i]\n",
        "fifty = test_image*(eig95)\n",
        "fifty = fifty.reshape(28,28)\n",
        "plt.imshow(np.rint(fifty).astype(int))"
      ],
      "metadata": {
        "colab": {
          "base_uri": "https://localhost:8080/",
          "height": 484
        },
        "id": "RwqcZCBhoc_k",
        "outputId": "10b21c1a-ceab-42f4-ad7f-fc846a16ac8c"
      },
      "execution_count": 19,
      "outputs": [
        {
          "output_type": "stream",
          "name": "stderr",
          "text": [
            "<ipython-input-19-ec54a26b5b95>:6: ComplexWarning: Casting complex values to real discards the imaginary part\n",
            "  plt.imshow(np.rint(fifty).astype(int))\n"
          ]
        },
        {
          "output_type": "execute_result",
          "data": {
            "text/plain": [
              "<matplotlib.image.AxesImage at 0x7f22cb715480>"
            ]
          },
          "metadata": {},
          "execution_count": 19
        },
        {
          "output_type": "display_data",
          "data": {
            "text/plain": [
              "<Figure size 640x480 with 1 Axes>"
            ],
            "image/png": "[encoded data removed]"
          },
          "metadata": {}
        }
      ]
    }
  ]
}